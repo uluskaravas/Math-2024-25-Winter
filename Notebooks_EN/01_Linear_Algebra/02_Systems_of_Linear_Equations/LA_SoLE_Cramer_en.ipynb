{
  "cells": [
    {
      "cell_type": "markdown",
      "metadata": {
        "id": "zE1N92T3sWUj"
      },
      "source": [
        "# Cramer's Rule - Examples for 2x2, 3x3, and 4x4 Systems\n",
        "\n",
        "Cramer's rule is used only when the number of equations is equal to the number of unknowns. In other words, the coefficient matrix must be a square matrix.\n",
        "\n",
        "**These formulas are used only** when the **determinant** of the coefficient matrix is **non-zero**. Otherwise, the system of equations is either inconsistent or indeterminate.\n",
        "\n",
        "## 2x2 System of Equations\n",
        "\n",
        "Consider a system of two equations with two unknowns:\n",
        "\n",
        "$$\n",
        "\\begin{cases}\n",
        "a_{11}x_1 + a_{12}x_2 = b_1 \\\\\n",
        "a_{21}x_1 + a_{22}x_2 = b_2\n",
        "\\end{cases}\n",
        "$$\n",
        "\n",
        "Cramer's rule for the unknowns $ x_1 $ and $ x_2 $ is as follows:\n",
        "\n",
        "$$\n",
        "x_1 = \\frac{\\det(A_1)}{\\det(A)} \\quad \\text{and} \\quad x_2 = \\frac{\\det(A_2)}{\\det(A)}\n",
        "$$\n",
        "\n",
        "Where:\n",
        "\n",
        "$$\n",
        "\\det(A) =\n",
        "\\begin{vmatrix}\n",
        "a_{11} & a_{12} \\\\\n",
        "a_{21} & a_{22}\n",
        "\\end{vmatrix}\n",
        "= a_{11}a_{22} - a_{12}a_{21}\n",
        "$$\n",
        "\n",
        "$$\n",
        "\\det(A_1) =\n",
        "\\begin{vmatrix}\n",
        "b_1 & a_{12} \\\\\n",
        "b_2 & a_{22}\n",
        "\\end{vmatrix}\n",
        "= b_1a_{22} - a_{12}b_2\n",
        "$$\n",
        "\n",
        "$$\n",
        "\\det(A_2) =\n",
        "\\begin{vmatrix}\n",
        "a_{11} & b_1 \\\\\n",
        "a_{21} & b_2\n",
        "\\end{vmatrix}\n",
        "= a_{11}b_2 - b_1a_{21}\n",
        "$$\n",
        "\n",
        "## 3x3 System of Equations\n",
        "\n",
        "Consider a system of three equations with three unknowns:\n",
        "\n",
        "$$\n",
        "\\begin{cases}\n",
        "a_{11}x_1 + a_{12}x_2 + a_{13}x_3 = b_1 \\\\\n",
        "a_{21}x_1 + a_{22}x_2 + a_{23}x_3 = b_2 \\\\\n",
        "a_{31}x_1 + a_{32}x_2 + a_{33}x_3 = b_3\n",
        "\\end{cases}\n",
        "$$\n",
        "\n",
        "Cramer's rule for $ x_1 $, $ x_2 $, and $ x_3 $:\n",
        "\n",
        "$$\n",
        "x_1 = \\frac{\\det(A_1)}{\\det(A)} \\quad x_2 = \\frac{\\det(A_2)}{\\det(A)} \\quad x_3 = \\frac{\\det(A_3)}{\\det(A)}\n",
        "$$\n",
        "\n",
        "Where:\n",
        "\n",
        "$$\n",
        "\\det(A) =\n",
        "\\begin{vmatrix}\n",
        "a_{11} & a_{12} & a_{13} \\\\\n",
        "a_{21} & a_{22} & a_{23} \\\\\n",
        "a_{31} & a_{32} & a_{33}\n",
        "\\end{vmatrix}\n",
        "$$\n",
        "\n",
        "$$\n",
        "\\det(A_1) =\n",
        "\\begin{vmatrix}\n",
        "b_1 & a_{12} & a_{13} \\\\\n",
        "b_2 & a_{22} & a_{23} \\\\\n",
        "b_3 & a_{32} & a_{33}\n",
        "\\end{vmatrix}\n",
        "$$\n",
        "\n",
        "$$\n",
        "\\det(A_2) =\n",
        "\\begin{vmatrix}\n",
        "a_{11} & b_1 & a_{13} \\\\\n",
        "a_{21} & b_2 & a_{23} \\\\\n",
        "a_{31} & b_3 & a_{33}\n",
        "\\end{vmatrix}\n",
        "$$\n",
        "\n",
        "$$\n",
        "\\det(A_3) =\n",
        "\\begin{vmatrix}\n",
        "a_{11} & a_{12} & b_1 \\\\\n",
        "a_{21} & a_{22} & b_2 \\\\\n",
        "a_{31} & a_{32} & b_3\n",
        "\\end{vmatrix}\n",
        "$$\n",
        "\n",
        "## 4x4 System of Equations\n",
        "\n",
        "Consider a system of four equations with four unknowns:\n",
        "\n",
        "$$\n",
        "\\begin{cases}\n",
        "a_{11}x_1 + a_{12}x_2 + a_{13}x_3 + a_{14}x_4 = b_1 \\\\\n",
        "a_{21}x_1 + a_{22}x_2 + a_{23}x_3 + a_{24}x_4 = b_2 \\\\\n",
        "a_{31}x_1 + a_{32}x_2 + a_{33}x_3 + a_{34}x_4 = b_3 \\\\\n",
        "a_{41}x_1 + a_{42}x_2 + a_{43}x_3 + a_{44}x_4 = b_4\n",
        "\\end{cases}\n",
        "$$\n",
        "\n",
        "Cramer's rule for $ x_1 $, $ x_2 $, $ x_3 $, and $ x_4 $:\n",
        "\n",
        "$$\n",
        "x_1 = \\frac{\\det(A_1)}{\\det(A)} \\quad x_2 = \\frac{\\det(A_2)}{\\det(A)} \\quad x_3 = \\frac{\\det(A_3)}{\\det(A)} \\quad x_4 = \\frac{\\det(A_4)}{\\det(A)}\n",
        "$$\n",
        "\n",
        "Where:\n",
        "\n",
        "$$\n",
        "\\det(A) =\n",
        "\\begin{vmatrix}\n",
        "a_{11} & a_{12} & a_{13} & a_{14} \\\\\n",
        "a_{21} & a_{22} & a_{23} & a_{24} \\\\\n",
        "a_{31} & a_{32} & a_{33} & a_{34} \\\\\n",
        "a_{41} & a_{42} & a_{43} & a_{44}\n",
        "\\end{vmatrix}\n",
        "$$\n",
        "\n",
        "$$\n",
        "\\det(A_1) =\n",
        "\\begin{vmatrix}\n",
        "b_1 & a_{12} & a_{13} & a_{14} \\\\\n",
        "b_2 & a_{22} & a_{23} & a_{24} \\\\\n",
        "b_3 & a_{32} & a_{33} & a_{34} \\\\\n",
        "b_4 & a_{42} & a_{43} & a_{44}\n",
        "\\end{vmatrix}\n",
        "$$\n",
        "\n",
        "$$\n",
        "\\det(A_2) =\n",
        "\\begin{vmatrix}\n",
        "a_{11} & b_1 & a_{13} & a_{14} \\\\\n",
        "a_{21} & b_2 & a_{23} & a_{24} \\\\\n",
        "a_{31} & b_3 & a_{33} & a_{34} \\\\\n",
        "a_{41} & b_4 & a_{43} & a_{44}\n",
        "\\end{vmatrix}\n",
        "$$\n",
        "\n",
        "$$\n",
        "\\det(A_3) =\n",
        "\\begin{vmatrix}\n",
        "a_{11} & a_{12} & b_1 & a_{14} \\\\\n",
        "a_{21} & a_{22} & b_2 & a_{24} \\\\\n",
        "a_{31} & a_{32} & b_3 & a_{34} \\\\\n",
        "a_{41} & a_{42} & b_4 & a_{44}\n",
        "\\end{vmatrix}\n",
        "$$\n",
        "\n",
        "$$\n",
        "\\det(A_4) =\n",
        "\\begin{vmatrix}\n",
        "a_{11} & a_{12} & a_{13} & b_1 \\\\\n",
        "a_{21} & a_{22} & a_{23} & b_2 \\\\\n",
        "a_{31} & a_{32} & a_{33} & b_3 \\\\\n",
        "a_{41} & a_{42} & a_{43} & b_4\n",
        "\\end{vmatrix}\n",
        "$$\n",
        "\n",
        "## Example"
      ]
    },
    {
      "cell_type": "code",
      "execution_count": 5,
      "metadata": {
        "id": "6odhOvaosWUl"
      },
      "outputs": [],
      "source": [
        "import sympy as sp\n",
        "\n",
        "# Define symbols\n",
        "x, y, z = sp.symbols('x y z')\n",
        "\n",
        "# Define the system of equations\n",
        "eq1 = sp.Eq(2*x + 3*y + z, 1)\n",
        "eq2 = sp.Eq(3*x + 2*y + 2*z, 2)\n",
        "eq3 = sp.Eq(x + y + z, 3)\n",
        "\n",
        "# Coefficient matrix of the system\n",
        "A = sp.Matrix([[2, 3, 1], [3, 2, 2], [1, 1, 1]])\n",
        "# Free terms vector\n",
        "b = sp.Matrix([1, 2, 3])"
      ]
    },
    {
      "cell_type": "code",
      "execution_count": 6,
      "metadata": {
        "id": "yQc5dP-KsWUm",
        "outputId": "0773fd6c-bbb0-466e-b17e-c402e9218eb2",
        "colab": {
          "base_uri": "https://localhost:8080/",
          "height": 78
        }
      },
      "outputs": [
        {
          "output_type": "execute_result",
          "data": {
            "text/plain": [
              "Matrix([\n",
              "[2, 3, 1],\n",
              "[3, 2, 2],\n",
              "[1, 1, 1]])"
            ],
            "text/latex": "$\\displaystyle \\left[\\begin{matrix}2 & 3 & 1\\\\3 & 2 & 2\\\\1 & 1 & 1\\end{matrix}\\right]$"
          },
          "metadata": {},
          "execution_count": 6
        }
      ],
      "source": [
        "A"
      ]
    },
    {
      "cell_type": "code",
      "execution_count": 7,
      "metadata": {
        "id": "yxGWct9BsWUm",
        "outputId": "ab8545bf-6904-4c77-adad-d72e2825cb6e",
        "colab": {
          "base_uri": "https://localhost:8080/",
          "height": 78
        }
      },
      "outputs": [
        {
          "output_type": "execute_result",
          "data": {
            "text/plain": [
              "Matrix([\n",
              "[1],\n",
              "[2],\n",
              "[3]])"
            ],
            "text/latex": "$\\displaystyle \\left[\\begin{matrix}1\\\\2\\\\3\\end{matrix}\\right]$"
          },
          "metadata": {},
          "execution_count": 7
        }
      ],
      "source": [
        "b"
      ]
    },
    {
      "cell_type": "code",
      "execution_count": 8,
      "metadata": {
        "id": "00YkuHGusWUn",
        "outputId": "14b5451f-e291-48f4-b976-e2416495f845",
        "colab": {
          "base_uri": "https://localhost:8080/",
          "height": 78
        }
      },
      "outputs": [
        {
          "output_type": "execute_result",
          "data": {
            "text/plain": [
              "Matrix([\n",
              "[1, 3, 1],\n",
              "[2, 2, 2],\n",
              "[3, 1, 1]])"
            ],
            "text/latex": "$\\displaystyle \\left[\\begin{matrix}1 & 3 & 1\\\\2 & 2 & 2\\\\3 & 1 & 1\\end{matrix}\\right]$"
          },
          "metadata": {},
          "execution_count": 8
        }
      ],
      "source": [
        "# Define matrix A_1\n",
        "A_1 = A.copy() # Copy matrix A\n",
        "A_1[:, 0] = b # Replace the first column of A with vector b\n",
        "A_1 # Check if the replacement was successful"
      ]
    },
    {
      "cell_type": "code",
      "execution_count": 9,
      "metadata": {
        "id": "bSqlLWPbsWUn",
        "outputId": "b2d2b807-b7f9-4414-d659-c2aa3fe9b68d",
        "colab": {
          "base_uri": "https://localhost:8080/",
          "height": 37
        }
      },
      "outputs": [
        {
          "output_type": "execute_result",
          "data": {
            "text/plain": [
              "-4"
            ],
            "text/latex": "$\\displaystyle -4$"
          },
          "metadata": {},
          "execution_count": 9
        }
      ],
      "source": [
        "det_A_1 = A_1.det() # Calculate determinant of A_1\n",
        "sol_x = det_A_1 / A.det() # Calculate x_1\n",
        "sol_x # Calculated value of x_1"
      ]
    },
    {
      "cell_type": "code",
      "execution_count": 10,
      "metadata": {
        "id": "93SsYVZwsWUn",
        "outputId": "35137d58-7626-473f-c919-b7cb11c208e8",
        "colab": {
          "base_uri": "https://localhost:8080/",
          "height": 78
        }
      },
      "outputs": [
        {
          "output_type": "execute_result",
          "data": {
            "text/plain": [
              "Matrix([\n",
              "[2, 1, 1],\n",
              "[3, 2, 2],\n",
              "[1, 3, 1]])"
            ],
            "text/latex": "$\\displaystyle \\left[\\begin{matrix}2 & 1 & 1\\\\3 & 2 & 2\\\\1 & 3 & 1\\end{matrix}\\right]$"
          },
          "metadata": {},
          "execution_count": 10
        }
      ],
      "source": [
        "# Similarly for y\n",
        "A_2 = A.copy()\n",
        "A_2[:, 1] = b\n",
        "A_2 # Check if the replacement was successful"
      ]
    },
    {
      "cell_type": "code",
      "execution_count": 12,
      "metadata": {
        "id": "3fsm7L-BsWUo",
        "outputId": "1b5e1234-e2ea-4ff4-dea9-8f0c54a41693",
        "colab": {
          "base_uri": "https://localhost:8080/",
          "height": 37
        }
      },
      "outputs": [
        {
          "output_type": "execute_result",
          "data": {
            "text/plain": [
              "1"
            ],
            "text/latex": "$\\displaystyle 1$"
          },
          "metadata": {},
          "execution_count": 12
        }
      ],
      "source": [
        "det_A_2 = A_2.det()\n",
        "sol_y = det_A_2 / A.det()\n",
        "sol_y"
      ]
    },
    {
      "cell_type": "code",
      "execution_count": 13,
      "metadata": {
        "id": "d7pV6XqgsWUo",
        "outputId": "b950ae1f-b258-4f9a-ea91-cd2a88e03725",
        "colab": {
          "base_uri": "https://localhost:8080/",
          "height": 37
        }
      },
      "outputs": [
        {
          "output_type": "execute_result",
          "data": {
            "text/plain": [
              "6"
            ],
            "text/latex": "$\\displaystyle 6$"
          },
          "metadata": {},
          "execution_count": 13
        }
      ],
      "source": [
        "# Finally for z\n",
        "A_3 = A.copy()\n",
        "A_3[:, 2] = b\n",
        "det_A_3 = A_3.det()\n",
        "sol_z = det_A_3 / A.det()\n",
        "sol_z"
      ]
    },
    {
      "cell_type": "code",
      "execution_count": 14,
      "metadata": {
        "id": "NK_0XlcEsWUo",
        "outputId": "70dbc7e7-34ce-4a01-e049-7f2c3845e814",
        "colab": {
          "base_uri": "https://localhost:8080/"
        }
      },
      "outputs": [
        {
          "output_type": "execute_result",
          "data": {
            "text/plain": [
              "{x: -4, y: 1, z: 6}"
            ]
          },
          "metadata": {},
          "execution_count": 14
        }
      ],
      "source": [
        "# Solve the system of equations\n",
        "sp.solve((eq1, eq2, eq3), (x, y, z))"
      ]
    },
    {
      "cell_type": "markdown",
      "metadata": {
        "id": "B44jRU2NsWUp"
      },
      "source": [
        "---\n",
        "\n",
        "## Exercises for Students\n",
        "\n",
        "1. Solve the system of equations:\n",
        "   $$\n",
        "   \\begin{cases}\n",
        "   2x_1 - 3x_2 = 7 \\\\\n",
        "   3x_1 + 5x_2 = 2\n",
        "   \\end{cases}\n",
        "   $$\n",
        "\n",
        "2. Solve the system of equations:\n",
        "   $$\n",
        "   \\begin{cases}\n",
        "   2x + y - z = 1 \\\\\n",
        "   x - y + 2z = 4 \\\\\n",
        "   3x - 2z = -1\n",
        "   \\end{cases}\n",
        "   $$\n",
        "\n",
        "3. Solve the system of equations:\n",
        "   $$\n",
        "   \\begin{cases}\n",
        "   x + y + z - t = 2 \\\\\n",
        "   x - z + 2t = 6 \\\\\n",
        "   2x - 3y + t = 4 \\\\\n",
        "   3x + y + 3z - 4t = -2\n",
        "   \\end{cases}\n",
        "   $$\n",
        "\n",
        "4. Why can't the following system of equations be solved using Cramer's rule?\n",
        "$$\n",
        "\\begin{cases}\n",
        "x_1 + 2x_2 + 3x_3 = 3 \\\\\n",
        "4x_1 + 5x_2 + 6x_3 = 2 \\\\\n",
        "7x_1 + 8x_2 + 9x_3 = 1\n",
        "\\end{cases}\n",
        "$$"
      ]
    },
    {
      "cell_type": "code",
      "source": [
        "import numpy as np\n",
        "\n",
        "def cramer_rule(A, B):\n",
        "    \"\"\"\n",
        "    Solve a system of linear equations using Cramer's Rule.\n",
        "    A: Coefficient matrix (numpy array)\n",
        "    B: Constant terms (numpy array)\n",
        "    Returns: Solution vector or None if determinant is zero\n",
        "    \"\"\"\n",
        "    det_A = np.linalg.det(A)\n",
        "    if det_A == 0:\n",
        "        print(\"Cramer's Rule cannot be applied because determinant is zero.\")\n",
        "        return None\n",
        "\n",
        "    n = len(B)\n",
        "    solutions = []\n",
        "    for i in range(n):\n",
        "        A_temp = A.copy()\n",
        "        A_temp[:, i] = B\n",
        "        det_A_temp = np.linalg.det(A_temp)\n",
        "        solutions.append(det_A_temp / det_A)\n",
        "\n",
        "    return solutions\n",
        "\n",
        "\n",
        "# Example: Solve the first system of equations\n",
        "A1 = np.array([[2, -3],\n",
        "               [3, 5]])\n",
        "B1 = np.array([7, 2])\n",
        "\n",
        "solution1 = cramer_rule(A1, B1)\n",
        "if solution1:\n",
        "    print(\"Solution for the first system:\", solution1)\n",
        "\n",
        "# Example: Solve the second system of equations\n",
        "A2 = np.array([[2, 1, -1],\n",
        "               [1, -1, 2],\n",
        "               [3, 0, -2]])\n",
        "B2 = np.array([1, 4, -1])\n",
        "\n",
        "solution2 = cramer_rule(A2, B2)\n",
        "if solution2:\n",
        "    print(\"Solution for the second system:\", solution2)\n",
        "\n",
        "# Example: Solve the third system of equations\n",
        "A3 = np.array([[1, 1, 1, -1],\n",
        "               [1, -1, 2, 0],\n",
        "               [2, -3, 0, 1],\n",
        "               [3, 1, 3, -4]])\n",
        "B3 = np.array([2, 6, 4, -2])\n",
        "\n",
        "solution3 = cramer_rule(A3, B3)\n",
        "if solution3:\n",
        "    print(\"Solution for the third system:\", solution3)\n",
        "\n",
        "# Example: Check why Cramer's Rule cannot be applied\n",
        "A4 = np.array([[1, 2, 3],\n",
        "               [4, 5, 6],\n",
        "               [7, 8, 9]])\n",
        "B4 = np.array([3, 2, 1])\n",
        "\n",
        "solution4 = cramer_rule(A4, B4)\n",
        "if solution4:\n",
        "    print(\"Solution for the fourth system:\", solution4)\n"
      ],
      "metadata": {
        "id": "bYTvl6-TupPi",
        "outputId": "e10c55bf-2707-4e01-94e2-1fed6bd8b705",
        "colab": {
          "base_uri": "https://localhost:8080/"
        }
      },
      "execution_count": 1,
      "outputs": [
        {
          "output_type": "stream",
          "name": "stdout",
          "text": [
            "Solution for the first system: [2.157894736842106, -0.8947368421052633]\n",
            "Solution for the second system: [0.9999999999999996, 0.9999999999999996, 1.9999999999999991]\n",
            "Solution for the third system: [2.2105263157894735, 1.6842105263157898, 2.7368421052631566, 4.631578947368421]\n",
            "Cramer's Rule cannot be applied because determinant is zero.\n"
          ]
        }
      ]
    }
  ],
  "metadata": {
    "kernelspec": {
      "display_name": "Python 3",
      "language": "python",
      "name": "python3"
    },
    "language_info": {
      "codemirror_mode": {
        "name": "ipython",
        "version": 3
      },
      "file_extension": ".py",
      "mimetype": "text/x-python",
      "name": "python",
      "nbconvert_exporter": "python",
      "pygments_lexer": "ipython3",
      "version": "3.11.9"
    },
    "colab": {
      "provenance": []
    }
  },
  "nbformat": 4,
  "nbformat_minor": 0
}