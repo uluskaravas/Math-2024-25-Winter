{
  "cells": [
    {
      "cell_type": "markdown",
      "metadata": {
        "id": "pT_nsAIvMbnf"
      },
      "source": [
        "# School Method for Solving Systems of Linear Equations"
      ]
    },
    {
      "cell_type": "code",
      "execution_count": 1,
      "metadata": {
        "id": "9mi4PYmWMbnh"
      },
      "outputs": [],
      "source": [
        "import sympy as sp\n",
        "from sympy import symbols, Eq, expand, solve\n",
        "\n",
        "class EnhancedEq(Eq):\n",
        "    def __add__(self, other):\n",
        "        return EnhancedEq(self.lhs + other.lhs, self.rhs + other.rhs)\n",
        "\n",
        "    def __sub__(self, other):\n",
        "        return EnhancedEq(self.lhs - other.lhs, self.rhs - other.rhs)\n",
        "\n",
        "    def __mul__(self, scalar):\n",
        "        return EnhancedEq(scalar * self.lhs, scalar * self.rhs)\n",
        "\n",
        "    def __rmul__(self, scalar):\n",
        "        return self.__mul__(scalar)\n",
        "\n",
        "    def simplify(self):\n",
        "        return EnhancedEq(expand(self.lhs), expand(self.rhs))\n",
        "\n",
        "    def substitute(self, *args, **kwargs):\n",
        "        return EnhancedEq(self.lhs.subs(*args, **kwargs), self.rhs.subs(*args, **kwargs))\n",
        "\n",
        "    def solve_for(self, symbol):\n",
        "        return solve(self, symbol)\n",
        "\n",
        "# Example usage:\n",
        "x, y = symbols('x y')\n",
        "\n",
        "# Define equations\n",
        "eq1 = EnhancedEq(2*x + y, 5)\n",
        "eq2 = EnhancedEq(x - y, 1)"
      ]
    },
    {
      "cell_type": "code",
      "execution_count": 2,
      "metadata": {
        "id": "IWASwjUhMbnj",
        "outputId": "095d3294-18a1-407a-cbb8-482ce3f166ef",
        "colab": {
          "base_uri": "https://localhost:8080/",
          "height": 56
        }
      },
      "outputs": [
        {
          "output_type": "stream",
          "name": "stdout",
          "text": [
            "First equation:\n"
          ]
        },
        {
          "output_type": "execute_result",
          "data": {
            "text/plain": [
              "Eq(2*x + y, 5)"
            ],
            "text/latex": "$\\displaystyle 2 x + y = 5$"
          },
          "metadata": {},
          "execution_count": 2
        }
      ],
      "source": [
        "print(\"First equation:\")\n",
        "eq1"
      ]
    },
    {
      "cell_type": "code",
      "execution_count": 3,
      "metadata": {
        "id": "N8CwKN9BMbnk",
        "outputId": "6eef9576-0e9c-4db7-c459-0ab7c665d78c",
        "colab": {
          "base_uri": "https://localhost:8080/",
          "height": 56
        }
      },
      "outputs": [
        {
          "output_type": "stream",
          "name": "stdout",
          "text": [
            "Second equation:\n"
          ]
        },
        {
          "output_type": "execute_result",
          "data": {
            "text/plain": [
              "Eq(x - y, 1)"
            ],
            "text/latex": "$\\displaystyle x - y = 1$"
          },
          "metadata": {},
          "execution_count": 3
        }
      ],
      "source": [
        "print(\"Second equation:\")\n",
        "eq2"
      ]
    },
    {
      "cell_type": "code",
      "execution_count": 4,
      "metadata": {
        "id": "ZBuWX0tuMbnk",
        "outputId": "261ad501-cb01-49da-b068-9d3930f1fa93",
        "colab": {
          "base_uri": "https://localhost:8080/",
          "height": 39
        }
      },
      "outputs": [
        {
          "output_type": "execute_result",
          "data": {
            "text/plain": [
              "Eq(3*x, 6)"
            ],
            "text/latex": "$\\displaystyle 3 x = 6$"
          },
          "metadata": {},
          "execution_count": 4
        }
      ],
      "source": [
        "# Add the equations\n",
        "eq3 = eq1 + eq2\n",
        "eq3"
      ]
    },
    {
      "cell_type": "code",
      "execution_count": 5,
      "metadata": {
        "id": "RalKRC0kMbnk",
        "outputId": "0834457f-00df-4ec2-e228-56f4b1b8e5cb",
        "colab": {
          "base_uri": "https://localhost:8080/",
          "height": 37
        }
      },
      "outputs": [
        {
          "output_type": "execute_result",
          "data": {
            "text/plain": [
              "2"
            ],
            "text/latex": "$\\displaystyle 2$"
          },
          "metadata": {},
          "execution_count": 5
        }
      ],
      "source": [
        "# We have an equation with one unknown, so we can solve it\n",
        "sol_x = eq3.solve_for(x)[0]\n",
        "sol_x"
      ]
    },
    {
      "cell_type": "code",
      "execution_count": 6,
      "metadata": {
        "id": "zlsyMFMKMbnl",
        "outputId": "6082a18d-8e54-4f8c-fe6d-40ce1219e701",
        "colab": {
          "base_uri": "https://localhost:8080/",
          "height": 39
        }
      },
      "outputs": [
        {
          "output_type": "execute_result",
          "data": {
            "text/plain": [
              "Eq(2 - y, 1)"
            ],
            "text/latex": "$\\displaystyle 2 - y = 1$"
          },
          "metadata": {},
          "execution_count": 6
        }
      ],
      "source": [
        "# Substitute the solution into equation 2\n",
        "eq2 = eq2.substitute(x, sol_x)\n",
        "eq2"
      ]
    },
    {
      "cell_type": "code",
      "execution_count": 7,
      "metadata": {
        "id": "ckWA1AjiMbnl",
        "outputId": "28ee1b4b-a1bf-4364-abbf-53d220782367",
        "colab": {
          "base_uri": "https://localhost:8080/",
          "height": 37
        }
      },
      "outputs": [
        {
          "output_type": "execute_result",
          "data": {
            "text/plain": [
              "1"
            ],
            "text/latex": "$\\displaystyle 1$"
          },
          "metadata": {},
          "execution_count": 7
        }
      ],
      "source": [
        "# We get an equation with one unknown, so we can solve it\n",
        "eq2.solve_for(y)[0]"
      ]
    },
    {
      "cell_type": "code",
      "execution_count": 8,
      "metadata": {
        "id": "hkBlGIgnMbnl",
        "outputId": "f7ddeea5-bc87-4551-c081-d1e4ec7aeadc",
        "colab": {
          "base_uri": "https://localhost:8080/"
        }
      },
      "outputs": [
        {
          "output_type": "execute_result",
          "data": {
            "text/plain": [
              "{x: 2, y: 1}"
            ]
          },
          "metadata": {},
          "execution_count": 8
        }
      ],
      "source": [
        "# Thus x=2, y=1\n",
        "# Verify with sympy\n",
        "sp.solve([eq1, eq2])"
      ]
    },
    {
      "cell_type": "markdown",
      "metadata": {
        "id": "H1CM7Vy9Mbnl"
      },
      "source": [
        "---\n",
        "\n",
        "### Exercises for Students\n",
        "\n",
        "Solve the following systems of equations similarly to the example above:\n",
        "\n",
        "* $3x-2y=5, \\quad 2x+3y=7$,\n",
        "* $2x-3y=10, \\quad 4x+5y=20$,\n",
        "* $2x - y + z = 3, \\quad x + 2y - z = 1, \\quad 3x - y + 2z = 11$.\n",
        "* $2x-3y+4z+2t=2, \\quad 3x+2y-5z+3t=3, \\quad 4x-3y+2z-5t=4, \\quad 5x+4y-3z+2t=5$."
      ]
    },
    {
      "cell_type": "code",
      "source": [
        "import numpy as np\n",
        "\n",
        "# 1. Denklem Sistemi: 3x - 2y = 5, 2x + 3y = 7\n",
        "A1 = np.array([[3, -2],\n",
        "               [2, 3]])\n",
        "b1 = np.array([5, 7])\n",
        "solution1 = np.linalg.solve(A1, b1)\n",
        "print(\"Solution to the first system of equations:\")\n",
        "print(\"x =\", solution1[0], \", y =\", solution1[1])\n",
        "\n",
        "# 2. Denklem Sistemi: 2x - 3y = 10, 4x + 5y = 20\n",
        "A2 = np.array([[2, -3],\n",
        "               [4, 5]])\n",
        "b2 = np.array([10, 20])\n",
        "solution2 = np.linalg.solve(A2, b2)\n",
        "print(\"\\nSolution to the second system of equations:\")\n",
        "print(\"x =\", solution2[0], \", y =\", solution2[1])\n",
        "\n",
        "# 3. Denklem Sistemi: 2x - y + z = 3, x + 2y - z = 1, 3x - y + 2z = 11\n",
        "A3 = np.array([[2, -1, 1],\n",
        "               [1, 2, -1],\n",
        "               [3, -1, 2]])\n",
        "b3 = np.array([3, 1, 11])\n",
        "solution3 = np.linalg.solve(A3, b3)\n",
        "print(\"\\nSolution to the third system of equations:\")\n",
        "print(\"x =\", solution3[0], \", y =\", solution3[1], \", z =\", solution3[2])\n",
        "\n",
        "# 4. Denklem Sistemi: 2x - 3y + 4z + 2t = 2, 3x + 2y - 5z + 3t = 3, 4x - 3y + 2z - 5t = 4, 5x + 4y - 3z + 2t = 5\n",
        "A4 = np.array([[2, -3, 4, 2],\n",
        "               [3, 2, -5, 3],\n",
        "               [4, -3, 2, -5],\n",
        "               [5, 4, -3, 2]])\n",
        "b4 = np.array([2, 3, 4, 5])\n",
        "solution4 = np.linalg.solve(A4, b4)\n",
        "print(\"\\nSolution to the fourth system of equations:\")\n",
        "print(\"x =\", solution4[0], \", y =\", solution4[1], \", z =\", solution4[2], \", t =\", solution4[3])\n"
      ],
      "metadata": {
        "id": "0857EXbmMtRD",
        "outputId": "571a50b7-947d-4609-f8bf-4470c612cd20",
        "colab": {
          "base_uri": "https://localhost:8080/"
        }
      },
      "execution_count": 9,
      "outputs": [
        {
          "output_type": "stream",
          "name": "stdout",
          "text": [
            "Solution to the first system of equations:\n",
            "x = 2.230769230769231 , y = 0.8461538461538463\n",
            "\n",
            "Solution to the second system of equations:\n",
            "x = 5.0 , y = -0.0\n",
            "\n",
            "Solution to the third system of equations:\n",
            "x = -0.2500000000000003 , y = 4.749999999999999 , z = 8.25\n",
            "\n",
            "Solution to the fourth system of equations:\n",
            "x = 0.9999999999999998 , y = 1.1102230246251568e-16 , z = 1.0597583416876493e-16 , t = -3.3643121958338084e-17\n"
          ]
        }
      ]
    }
  ],
  "metadata": {
    "kernelspec": {
      "display_name": "Python 3",
      "language": "python",
      "name": "python3"
    },
    "language_info": {
      "codemirror_mode": {
        "name": "ipython",
        "version": 3
      },
      "file_extension": ".py",
      "mimetype": "text/x-python",
      "name": "python",
      "nbconvert_exporter": "python",
      "pygments_lexer": "ipython3",
      "version": "3.11.9"
    },
    "colab": {
      "provenance": []
    }
  },
  "nbformat": 4,
  "nbformat_minor": 0
}